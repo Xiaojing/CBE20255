{
 "cells": [
  {
   "cell_type": "markdown",
   "metadata": {},
   "source": [
    "# CBE 20255: Homework 01\n",
    "## Due: September 5, 2014"
   ]
  },
  {
   "cell_type": "markdown",
   "metadata": {},
   "source": [
    "## Problem P1.10"
   ]
  },
  {
   "cell_type": "markdown",
   "metadata": {},
   "source": [
    "A folk recipe for a homemade ant killer is to mix equal amounts of baking soda (sodium bicarbonate $NaHCO_3$) and powdered sugar, then spread the mixture in areas infested with ants. The theory is that the ants will be attracted to the sugar, eat some of the mixture, and carry more back to their nest to feed others. The ingested sodium bicarbonate will then react with formic acid present in the ants digestive tract to form a lethal amount of carbon dioxide gas ($CO_2$). \n",
    "\n",
    "Assuming the other reaction products are water and sodium formate ($HCOONa$), write a balanced reaction for what happens inside the ant's digestive tract.\n",
    "\n",
    "(Note: This is a folk recipe and explanation, there is little evidence regarding whether or not it actually works!)\n",
    "\n",
    "Note added xiaojing on July 8: This problem is due on July 15. "
   ]
  },
  {
   "cell_type": "markdown",
   "metadata": {},
   "source": [
    "## Problem 2"
   ]
  },
  {
   "cell_type": "markdown",
   "metadata": {},
   "source": [
    "Consider again the problem posed problem 1, parts b and c. You’ve been given the task of improving plant performance. You immediately diagnose the loss of unreacted glucose as a wasted raw material, so you decide to recyle the glucose rich steam for recycle.\n",
    "\n",
    "(a) Sketch the process flow diagram for the combined reac- tor/separator system described in parts 1b and 1c. The recycle stream is the glucose rich stream produced by the separator in part 1c, and is mixed with feedstream to the reactor.\n",
    "\n",
    "(b) Perform a degree of freedom analysis. How many degrees of freedom are present?\n",
    "\n",
    "(c) Does problem 1(c) provide enough information to solve for all component flowrates in your flowsheet?\n",
    "\n",
    "(d) Prepare a list of all component balances and process specifications needed to solve for the process flowrates. "
   ]
  },
  {
   "cell_type": "markdown",
   "metadata": {},
   "source": [
    "## Problem 3"
   ]
  },
  {
   "cell_type": "markdown",
   "metadata": {},
   "source": [
    "Murphy Problem 3.15."
   ]
  },
  {
   "cell_type": "markdown",
   "metadata": {},
   "source": [
    "## Problem 4"
   ]
  },
  {
   "cell_type": "markdown",
   "metadata": {},
   "source": [
    "Murphy Problem P3.20. \n",
    "\n",
    "_Hint: Draw a diagram. This problem can be solved with paper and pencil, no simulations are required._"
   ]
  }
 ],
 "metadata": {
  "kernelspec": {
   "display_name": "Python 2",
   "language": "python",
   "name": "python2"
  },
  "language_info": {
   "codemirror_mode": {
    "name": "ipython",
    "version": 2
   },
   "file_extension": ".py",
   "mimetype": "text/x-python",
   "name": "python",
   "nbconvert_exporter": "python",
   "pygments_lexer": "ipython2",
   "version": "2.7.6"
  }
 },
 "nbformat": 4,
 "nbformat_minor": 0
}
