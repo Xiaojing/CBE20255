{
 "cells": [
  {
   "cell_type": "markdown",
   "metadata": {},
   "source": [
    "# CBE 20255: Homework 06\n",
    "## Due: February 26, 2014"
   ]
  },
  {
   "cell_type": "markdown",
   "metadata": {},
   "source": [
    "## Problem 1"
   ]
  },
  {
   "cell_type": "markdown",
   "metadata": {},
   "source": [
    "The following are short problems to review basic concepts and definitions. Refer to class notes or textbook for definitions of these quantities. A convenient summary is located on pages 259--260 of your textbook.\n",
    "\n",
    "(a) (Murphy, problem 3.4) Given the reaction \n",
    "\n",
    "$$CH_{4}+2\\, O_{2}\\longrightarrow CO_{2}+2\\, H_{2}O$$ \n",
    "\n",
    "If $\\dot{\\xi}=5$ gmol/min, determine $\\dot{r}_{O_{2}}$, $\\dot{r}_{CO_{2}}$, $\\dot{r}_{H_{2}O}$, $\\dot{r}_{CH_{4}}$ (i.e., net reaction rates in molar units) and $\\dot{R}_{O_{2}}$, $\\dot{R}_{CO_{2}}$, $\\dot{R}_{H_{2}O}$, $\\dot{R}_{CH_{4}}$ (i.e., net reaction rates in mass units.). Refer to the general form for the material balance equations.\n",
    "\n",
    "(b) (Murphy, problems 3.6 and 3.10) 100 lb/h of a 10 wt% glucose solution is fed to an isomerization reactor, where the part of the glucose ($C_{6}H_{12}O_{6}$) is converted to its isomer, fructose. (Frustose is sweeter than glucose, and therefore a more valuable commodity). The reactor output stream is a 6 wt% glucose solution. \n",
    "\n",
    "i. What is $\\dot{R}_{g}$? \n",
    "\n",
    "ii. What is $\\dot{\\xi}$?\n",
    "\n",
    "iii. What is the fractional conversion?\n",
    "\n",
    "(c) (Murphy, problem 3.11, with additions). 100 lb/h of a 6 wt% glucose/4 wt% fructose solution is fed to a separator. Two product streams are produced: one stream is 50 lb/h of a 9wt% glucose/1 wt% fructose solution. \n",
    "\n",
    "i. What is the fractional recovery of glucose in this stream?\n",
    "\n",
    "ii. What is the fractional recovery of fructose in the other stream (which would be the product stream)\n",
    "\n",
    "Note added by xiaojing on July 8: this problem is due on July 31th. "
   ]
  },
  {
   "cell_type": "markdown",
   "metadata": {},
   "source": [
    "## Problem 2"
   ]
  },
  {
   "cell_type": "markdown",
   "metadata": {},
   "source": [
    "Consider again the problem posed problem 1, parts b and c. You’ve been given the task of improving plant performance. You immediately diagnose the loss of unreacted glucose as a wasted raw material, so you decide to recyle the glucose rich steam for recycle.\n",
    "\n",
    "(a) Sketch the process flow diagram for the combined reac- tor/separator system described in parts 1b and 1c. The recycle stream is the glucose rich stream produced by the separator in part 1c, and is mixed with feedstream to the reactor.\n",
    "\n",
    "(b) Perform a degree of freedom analysis. How many degrees of freedom are present?\n",
    "\n",
    "(c) Does problem 1(c) provide enough information to solve for all component flowrates in your flowsheet?\n",
    "\n",
    "(d) Prepare a list of all component balances and process specifications needed to solve for the process flowrates. "
   ]
  },
  {
   "cell_type": "markdown",
   "metadata": {},
   "source": [
    "## Problem 3"
   ]
  },
  {
   "cell_type": "markdown",
   "metadata": {},
   "source": [
    "Murphy Problem 3.15."
   ]
  },
  {
   "cell_type": "markdown",
   "metadata": {},
   "source": [
    "## Problem 4"
   ]
  },
  {
   "cell_type": "markdown",
   "metadata": {},
   "source": [
    "Murphy Problem P3.20. \n",
    "\n",
    "_Hint: Draw a diagram. This problem can be solved with paper and pencil, no simulations are required._"
   ]
  }
 ],
 "metadata": {
  "kernelspec": {
   "display_name": "Python 2",
   "language": "python",
   "name": "python2"
  },
  "language_info": {
   "codemirror_mode": {
    "name": "ipython",
    "version": 2
   },
   "file_extension": ".py",
   "mimetype": "text/x-python",
   "name": "python",
   "nbconvert_exporter": "python",
   "pygments_lexer": "ipython2",
   "version": "2.7.6"
  }
 },
 "nbformat": 4,
 "nbformat_minor": 0
}
